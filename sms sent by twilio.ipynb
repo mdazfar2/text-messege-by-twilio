{
 "cells": [
  {
   "cell_type": "code",
   "execution_count": null,
   "id": "aab59cdb",
   "metadata": {},
   "outputs": [],
   "source": [
    "# Install Twilio library first: pip install twilio\n",
    "from twilio.rest import Client\n",
    "\n",
    "# Your Twilio account SID and Auth Token\n",
    "account_sid = 'ACb9a589d15b3f0bbfb919d52e435105b2'\n",
    "auth_token = 'a9288749a6614d1e3b17c96d38589e5c'\n",
    "\n",
    "# Create a Twilio client\n",
    "client = Client(account_sid, auth_token)\n",
    "\n",
    "# Replace 'to_phone_number' with the recipient's phone number\n",
    "# Replace 'from_phone_number' with your Twilio phone number\n",
    "message = client.messages.create(\n",
    "    body=\"Hello, sachin lets do tasks\",\n",
    "    from_='+12294584818',  # Replace with your Twilio phone number\n",
    "    to='+917739318770'      # Replace with the recipient's phone number\n",
    ")\n",
    "\n",
    "print(\"Message sent successfully!\")"
   ]
  }
 ],
 "metadata": {
  "kernelspec": {
   "display_name": "Python 3 (ipykernel)",
   "language": "python",
   "name": "python3"
  }
 },
 "nbformat": 4,
 "nbformat_minor": 5
}
